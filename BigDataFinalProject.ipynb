{
 "cells": [
  {
   "cell_type": "markdown",
   "id": "4479648f",
   "metadata": {},
   "source": [
    "# Big Data Analytics Final Project"
   ]
  },
  {
   "cell_type": "code",
   "execution_count": 2,
   "id": "48a7412f",
   "metadata": {
    "scrolled": false
   },
   "outputs": [
    {
     "data": {
      "text/html": [
       "<div>\n",
       "<style scoped>\n",
       "    .dataframe tbody tr th:only-of-type {\n",
       "        vertical-align: middle;\n",
       "    }\n",
       "\n",
       "    .dataframe tbody tr th {\n",
       "        vertical-align: top;\n",
       "    }\n",
       "\n",
       "    .dataframe thead th {\n",
       "        text-align: right;\n",
       "    }\n",
       "</style>\n",
       "<table border=\"1\" class=\"dataframe\">\n",
       "  <thead>\n",
       "    <tr style=\"text-align: right;\">\n",
       "      <th></th>\n",
       "      <th>iid</th>\n",
       "      <th>id</th>\n",
       "      <th>gender</th>\n",
       "      <th>idg</th>\n",
       "      <th>condtn</th>\n",
       "      <th>wave</th>\n",
       "      <th>round</th>\n",
       "      <th>position</th>\n",
       "      <th>positin1</th>\n",
       "      <th>order</th>\n",
       "      <th>...</th>\n",
       "      <th>attr3_3</th>\n",
       "      <th>sinc3_3</th>\n",
       "      <th>intel3_3</th>\n",
       "      <th>fun3_3</th>\n",
       "      <th>amb3_3</th>\n",
       "      <th>attr5_3</th>\n",
       "      <th>sinc5_3</th>\n",
       "      <th>intel5_3</th>\n",
       "      <th>fun5_3</th>\n",
       "      <th>amb5_3</th>\n",
       "    </tr>\n",
       "  </thead>\n",
       "  <tbody>\n",
       "    <tr>\n",
       "      <th>0</th>\n",
       "      <td>1</td>\n",
       "      <td>1.0</td>\n",
       "      <td>0</td>\n",
       "      <td>1</td>\n",
       "      <td>1</td>\n",
       "      <td>1</td>\n",
       "      <td>10</td>\n",
       "      <td>7</td>\n",
       "      <td>NaN</td>\n",
       "      <td>4</td>\n",
       "      <td>...</td>\n",
       "      <td>5.0</td>\n",
       "      <td>7.0</td>\n",
       "      <td>7.0</td>\n",
       "      <td>7.0</td>\n",
       "      <td>7.0</td>\n",
       "      <td>NaN</td>\n",
       "      <td>NaN</td>\n",
       "      <td>NaN</td>\n",
       "      <td>NaN</td>\n",
       "      <td>NaN</td>\n",
       "    </tr>\n",
       "    <tr>\n",
       "      <th>1</th>\n",
       "      <td>1</td>\n",
       "      <td>1.0</td>\n",
       "      <td>0</td>\n",
       "      <td>1</td>\n",
       "      <td>1</td>\n",
       "      <td>1</td>\n",
       "      <td>10</td>\n",
       "      <td>7</td>\n",
       "      <td>NaN</td>\n",
       "      <td>3</td>\n",
       "      <td>...</td>\n",
       "      <td>5.0</td>\n",
       "      <td>7.0</td>\n",
       "      <td>7.0</td>\n",
       "      <td>7.0</td>\n",
       "      <td>7.0</td>\n",
       "      <td>NaN</td>\n",
       "      <td>NaN</td>\n",
       "      <td>NaN</td>\n",
       "      <td>NaN</td>\n",
       "      <td>NaN</td>\n",
       "    </tr>\n",
       "    <tr>\n",
       "      <th>2</th>\n",
       "      <td>1</td>\n",
       "      <td>1.0</td>\n",
       "      <td>0</td>\n",
       "      <td>1</td>\n",
       "      <td>1</td>\n",
       "      <td>1</td>\n",
       "      <td>10</td>\n",
       "      <td>7</td>\n",
       "      <td>NaN</td>\n",
       "      <td>10</td>\n",
       "      <td>...</td>\n",
       "      <td>5.0</td>\n",
       "      <td>7.0</td>\n",
       "      <td>7.0</td>\n",
       "      <td>7.0</td>\n",
       "      <td>7.0</td>\n",
       "      <td>NaN</td>\n",
       "      <td>NaN</td>\n",
       "      <td>NaN</td>\n",
       "      <td>NaN</td>\n",
       "      <td>NaN</td>\n",
       "    </tr>\n",
       "    <tr>\n",
       "      <th>3</th>\n",
       "      <td>1</td>\n",
       "      <td>1.0</td>\n",
       "      <td>0</td>\n",
       "      <td>1</td>\n",
       "      <td>1</td>\n",
       "      <td>1</td>\n",
       "      <td>10</td>\n",
       "      <td>7</td>\n",
       "      <td>NaN</td>\n",
       "      <td>5</td>\n",
       "      <td>...</td>\n",
       "      <td>5.0</td>\n",
       "      <td>7.0</td>\n",
       "      <td>7.0</td>\n",
       "      <td>7.0</td>\n",
       "      <td>7.0</td>\n",
       "      <td>NaN</td>\n",
       "      <td>NaN</td>\n",
       "      <td>NaN</td>\n",
       "      <td>NaN</td>\n",
       "      <td>NaN</td>\n",
       "    </tr>\n",
       "    <tr>\n",
       "      <th>4</th>\n",
       "      <td>1</td>\n",
       "      <td>1.0</td>\n",
       "      <td>0</td>\n",
       "      <td>1</td>\n",
       "      <td>1</td>\n",
       "      <td>1</td>\n",
       "      <td>10</td>\n",
       "      <td>7</td>\n",
       "      <td>NaN</td>\n",
       "      <td>7</td>\n",
       "      <td>...</td>\n",
       "      <td>5.0</td>\n",
       "      <td>7.0</td>\n",
       "      <td>7.0</td>\n",
       "      <td>7.0</td>\n",
       "      <td>7.0</td>\n",
       "      <td>NaN</td>\n",
       "      <td>NaN</td>\n",
       "      <td>NaN</td>\n",
       "      <td>NaN</td>\n",
       "      <td>NaN</td>\n",
       "    </tr>\n",
       "  </tbody>\n",
       "</table>\n",
       "<p>5 rows × 195 columns</p>\n",
       "</div>"
      ],
      "text/plain": [
       "   iid   id  gender  idg  condtn  wave  round  position  positin1  order  ...  \\\n",
       "0    1  1.0       0    1       1     1     10         7       NaN      4  ...   \n",
       "1    1  1.0       0    1       1     1     10         7       NaN      3  ...   \n",
       "2    1  1.0       0    1       1     1     10         7       NaN     10  ...   \n",
       "3    1  1.0       0    1       1     1     10         7       NaN      5  ...   \n",
       "4    1  1.0       0    1       1     1     10         7       NaN      7  ...   \n",
       "\n",
       "   attr3_3  sinc3_3  intel3_3  fun3_3  amb3_3  attr5_3  sinc5_3  intel5_3  \\\n",
       "0      5.0      7.0       7.0     7.0     7.0      NaN      NaN       NaN   \n",
       "1      5.0      7.0       7.0     7.0     7.0      NaN      NaN       NaN   \n",
       "2      5.0      7.0       7.0     7.0     7.0      NaN      NaN       NaN   \n",
       "3      5.0      7.0       7.0     7.0     7.0      NaN      NaN       NaN   \n",
       "4      5.0      7.0       7.0     7.0     7.0      NaN      NaN       NaN   \n",
       "\n",
       "   fun5_3  amb5_3  \n",
       "0     NaN     NaN  \n",
       "1     NaN     NaN  \n",
       "2     NaN     NaN  \n",
       "3     NaN     NaN  \n",
       "4     NaN     NaN  \n",
       "\n",
       "[5 rows x 195 columns]"
      ]
     },
     "execution_count": 2,
     "metadata": {},
     "output_type": "execute_result"
    }
   ],
   "source": [
    "import pandas as pd\n",
    "import numpy as np\n",
    "\n",
    "data = pd.read_csv(\"Speed Dating Data.csv\", encoding = 'ISO-8859-1')\n",
    "data.head()"
   ]
  },
  {
   "cell_type": "markdown",
   "id": "98180913",
   "metadata": {},
   "source": [
    "## Pre-Processing"
   ]
  },
  {
   "cell_type": "code",
   "execution_count": 3,
   "id": "21f671f8",
   "metadata": {},
   "outputs": [],
   "source": [
    "#Remove variables that were recorded AFTER the matches were sent. Because these variables were surveyed after \n",
    "#our response variable, they are fundamentally useless\n",
    "data = data.drop(data.columns[156:195], axis = 1)"
   ]
  },
  {
   "cell_type": "code",
   "execution_count": 4,
   "id": "ba7da5f4",
   "metadata": {},
   "outputs": [],
   "source": [
    "#Removed entries of parameter 'wave'. Waves 6-9 were removed due to having differing rating parameters than the rest of the data\n",
    "\n",
    "data = data[data['wave'] != 12]\n",
    "data = data[(data['wave'] < 5) | (data['wave'] > 9)]"
   ]
  },
  {
   "cell_type": "markdown",
   "id": "98e344a3",
   "metadata": {},
   "source": [
    "I removed rows that fell under wave 5-9 because the people in that wave had to grade in a different scale than the rest of the dataset and therefore it would affect our modelling if kept in.\n",
    "\n",
    "I removed the participants in row 12 could only 'match' with up to 50% of the people they speed dated, there was an implicit bias before they were even surveyed and their wave was unique to every other wave"
   ]
  },
  {
   "cell_type": "markdown",
   "id": "b4ecdb5d",
   "metadata": {},
   "source": [
    "Removal of Trivial Variables based on Documentation"
   ]
  },
  {
   "cell_type": "code",
   "execution_count": 5,
   "id": "6ab546c4",
   "metadata": {},
   "outputs": [],
   "source": [
    "#Remove trivial/not useful variables based on information from the doc\n",
    "data = data.drop(['iid','id','idg','condtn','round','position','positin1','order','partner','pid','undergra',\n",
    "                'mn_sat','tuition','from','zipcode','income','field_cd','career_c','attr4_1','sinc4_1','intel4_1',\n",
    "                'fun4_1','amb4_1','shar4_1','attr2_1','sinc2_1','intel2_1','fun2_1','amb2_1','shar2_1','attr3_1',\n",
    "                 'sinc3_1','fun3_1','intel3_1','amb3_1','attr5_1','sinc5_1','intel5_1','fun5_1','amb5_1','dec','like',\n",
    "                'prob','met','match_es','attr1_s','sinc1_s','intel1_s','fun1_s','amb1_s','shar1_s','attr3_s',\n",
    "                'sinc3_s','intel3_s','fun3_s','amb3_s','attr7_2','sinc7_2','intel7_2','fun7_2','amb7_2','shar7_2',\n",
    "                'attr4_2','sinc4_2','intel4_2','fun4_2','amb4_2','shar4_2','attr2_2','sinc2_2','intel2_2','fun2_2',\n",
    "                 'amb2_2','shar2_2','attr5_2','sinc5_2','intel5_2','fun5_2','amb5_2','expnum', 'prob_o','like','like_o'], axis=1)"
   ]
  },
  {
   "cell_type": "markdown",
   "id": "8a795f5d",
   "metadata": {},
   "source": [
    "### Dealing with Missing Values"
   ]
  },
  {
   "cell_type": "markdown",
   "id": "0a29d631",
   "metadata": {},
   "source": [
    "Use this code to check if there are any na or missing values in your dataset"
   ]
  },
  {
   "cell_type": "code",
   "execution_count": 8,
   "id": "82088713",
   "metadata": {
    "scrolled": true
   },
   "outputs": [
    {
     "data": {
      "text/plain": [
       "17818"
      ]
     },
     "execution_count": 8,
     "metadata": {},
     "output_type": "execute_result"
    }
   ],
   "source": [
    "#data.isnull().sum().sum() #-> Total number of missing values\n",
    "#data.isnull().sum() #-> Missing values by column"
   ]
  },
  {
   "cell_type": "markdown",
   "id": "ea078da1",
   "metadata": {},
   "source": [
    "For categorical variables I decided to just omit rows with missing values"
   ]
  },
  {
   "cell_type": "code",
   "execution_count": 9,
   "id": "06c0d4eb",
   "metadata": {},
   "outputs": [],
   "source": [
    "data = data.dropna(subset=['race_o','race','field','career'])\n",
    "data = data.drop(columns = ['field', 'career', 'dec_o'])"
   ]
  },
  {
   "cell_type": "markdown",
   "id": "b0d65232",
   "metadata": {},
   "source": [
    "For numerical variables I decided to perform an imputation, replacing missing cells with the median of the column as I felt that would be better than outright dropping the rows"
   ]
  },
  {
   "cell_type": "code",
   "execution_count": 11,
   "id": "0cd2b955",
   "metadata": {},
   "outputs": [],
   "source": [
    "c = data.select_dtypes(np.number).columns\n",
    "data[c] = data[c].fillna(data[c].median())"
   ]
  },
  {
   "cell_type": "markdown",
   "id": "0e391aa0",
   "metadata": {},
   "source": [
    "## Train-Test Split (70-30)"
   ]
  },
  {
   "cell_type": "code",
   "execution_count": 12,
   "id": "0a7d1402",
   "metadata": {},
   "outputs": [],
   "source": [
    "import sklearn.model_selection as ms"
   ]
  },
  {
   "cell_type": "code",
   "execution_count": 13,
   "id": "eccd483c",
   "metadata": {},
   "outputs": [],
   "source": [
    "Y = data['match']\n",
    "X = data.drop(['match','wave'], axis = 1)"
   ]
  },
  {
   "cell_type": "code",
   "execution_count": 14,
   "id": "139e485d",
   "metadata": {},
   "outputs": [],
   "source": [
    "XTrain, XTest, YTrain, YTest = ms.train_test_split(X, Y, test_size= 0.3, random_state=1)"
   ]
  },
  {
   "cell_type": "markdown",
   "id": "832f6804",
   "metadata": {},
   "source": [
    "## Creating a Decision Tree"
   ]
  },
  {
   "cell_type": "code",
   "execution_count": 15,
   "id": "9e783dff",
   "metadata": {
    "scrolled": true
   },
   "outputs": [
    {
     "data": {
      "text/plain": [
       "{'max_depth': 4, 'min_samples_leaf': 41}"
      ]
     },
     "metadata": {},
     "output_type": "display_data"
    }
   ],
   "source": [
    "from sklearn import tree\n",
    "from sklearn.model_selection import GridSearchCV\n",
    "\n",
    "#Creating parameters for the grid search and instantiating the tree model\n",
    "depth_val = np.arange(2, 11)\n",
    "leaf_val = np.arange(1, 51, step = 2)\n",
    "\n",
    "grid_space = [{'max_depth': depth_val, 'min_samples_leaf': leaf_val}]\n",
    "tree_model = tree.DecisionTreeClassifier()\n",
    "\n",
    "cv_tree = GridSearchCV(estimator = tree_model, param_grid = grid_space, cv = ms.KFold(n_splits = 3))\n",
    "\n",
    "#Fitting the model and finding best parameters for it\n",
    "cv_tree.fit(XTrain, YTrain)\n",
    "\n",
    "display(cv_tree.best_params_)\n",
    "\n",
    "best_depth = cv_tree.best_params_['max_depth']\n",
    "best_min_samples = cv_tree.best_params_['min_samples_leaf']\n",
    "\n",
    "#Creating a new model using the best parameters\n",
    "best_tree = tree.DecisionTreeClassifier(criterion = 'entropy', max_depth = best_depth, min_samples_leaf = best_min_samples)\n",
    "matchTree = best_tree.fit(XTrain, YTrain)"
   ]
  },
  {
   "cell_type": "markdown",
   "id": "3915b6ba",
   "metadata": {},
   "source": [
    "### Exporting the tree model"
   ]
  },
  {
   "cell_type": "code",
   "execution_count": 16,
   "id": "2bb3935b",
   "metadata": {},
   "outputs": [],
   "source": [
    "tree.export_graphviz(matchTree, out_file = 'MatchTree.dot', max_depth = best_depth, feature_names = X.columns, class_names = ['Match', 'No_Match'])"
   ]
  },
  {
   "cell_type": "markdown",
   "id": "97e5b219",
   "metadata": {},
   "source": [
    "## Confusion Matrix for Accuracy and Prediction"
   ]
  },
  {
   "cell_type": "code",
   "execution_count": 20,
   "id": "b6f384af",
   "metadata": {},
   "outputs": [
    {
     "data": {
      "text/plain": [
       "array([[1473,   53],\n",
       "       [ 208,   97]], dtype=int64)"
      ]
     },
     "metadata": {},
     "output_type": "display_data"
    },
    {
     "name": "stdout",
     "output_type": "stream",
     "text": [
      "The accuracy of the tree model in predicting a match is:  0.8574549426542872\n"
     ]
    }
   ],
   "source": [
    "from sklearn import metrics\n",
    "\n",
    "#Creating predictions using the tree model on the testing data\n",
    "match_prediction = matchTree.predict(XTest)\n",
    "\n",
    "match_proba = matchTree.predict_proba(XTest)\n",
    "\n",
    "#Here, a basic confusion matrix was created to assess model accuracy\n",
    "confusion_mat = metrics.confusion_matrix(YTest, match_prediction)\n",
    "display(confusion_mat)\n",
    "\n",
    "acc_score = (confusion_mat[0, 0] + confusion_mat[1, 1]) / (confusion_mat[0, 0] + confusion_mat[0, 1] + confusion_mat[1, 0]\n",
    "                                                          + confusion_mat [1, 1])\n",
    "print('The accuracy of the tree model in predicting a match is: ', acc_score)"
   ]
  },
  {
   "cell_type": "markdown",
   "id": "f722a9a3",
   "metadata": {},
   "source": [
    "### Confusion Matrix and Classification Report"
   ]
  },
  {
   "cell_type": "code",
   "execution_count": 21,
   "id": "dc9fa761",
   "metadata": {},
   "outputs": [
    {
     "name": "stdout",
     "output_type": "stream",
     "text": [
      "              precision    recall  f1-score   support\n",
      "\n",
      "           0       0.88      0.97      0.92      1526\n",
      "           1       0.65      0.32      0.43       305\n",
      "\n",
      "    accuracy                           0.86      1831\n",
      "   macro avg       0.76      0.64      0.67      1831\n",
      "weighted avg       0.84      0.86      0.84      1831\n",
      "\n"
     ]
    }
   ],
   "source": [
    "from sklearn.metrics import classification_report\n",
    "print(classification_report(YTest, match_prediction))"
   ]
  },
  {
   "cell_type": "code",
   "execution_count": 22,
   "id": "f65614bd",
   "metadata": {},
   "outputs": [
    {
     "data": {
      "image/png": "[encoded data removed]",
      "text/plain": [
       "<Figure size 432x288 with 1 Axes>"
      ]
     },
     "metadata": {
      "needs_background": "light"
     },
     "output_type": "display_data"
    }
   ],
   "source": [
    "from sklearn.metrics import ConfusionMatrixDisplay\n",
    "confusion_matrix = ConfusionMatrixDisplay.from_estimator(matchTree, XTest, YTest, colorbar = False, cmap = 'summer')"
   ]
  },
  {
   "cell_type": "markdown",
   "id": "2c2adc85",
   "metadata": {},
   "source": [
    "### Feature Importance"
   ]
  },
  {
   "cell_type": "code",
   "execution_count": 17,
   "id": "2d0a6702",
   "metadata": {},
   "outputs": [
    {
     "name": "stdout",
     "output_type": "stream",
     "text": [
      " The importance of feature ' gender' is 0.0%.\n",
      " The importance of feature ' int_corr' is 0.0%.\n",
      " The importance of feature ' samerace' is 0.0%.\n",
      " The importance of feature ' age_o' is 1.88%.\n",
      " The importance of feature ' race_o' is 0.0%.\n",
      " The importance of feature ' pf_o_att' is 0.0%.\n",
      " The importance of feature ' pf_o_sin' is 0.0%.\n",
      " The importance of feature ' pf_o_int' is 0.0%.\n",
      " The importance of feature ' pf_o_fun' is 1.41%.\n",
      " The importance of feature ' pf_o_amb' is 0.0%.\n",
      " The importance of feature ' pf_o_sha' is 1.25%.\n",
      " The importance of feature ' attr_o' is 13.69%.\n",
      " The importance of feature ' sinc_o' is 0.0%.\n",
      " The importance of feature ' intel_o' is 0.0%.\n",
      " The importance of feature ' fun_o' is 34.15%.\n",
      " The importance of feature ' amb_o' is 0.0%.\n",
      " The importance of feature ' shar_o' is 2.36%.\n",
      " The importance of feature ' met_o' is 0.0%.\n",
      " The importance of feature ' age' is 0.0%.\n",
      " The importance of feature ' race' is 0.0%.\n",
      " The importance of feature ' imprace' is 0.0%.\n",
      " The importance of feature ' imprelig' is 0.0%.\n",
      " The importance of feature ' goal' is 0.0%.\n",
      " The importance of feature ' date' is 0.0%.\n",
      " The importance of feature ' go_out' is 0.0%.\n",
      " The importance of feature ' sports' is 0.0%.\n",
      " The importance of feature ' tvsports' is 0.0%.\n",
      " The importance of feature ' exercise' is 0.0%.\n",
      " The importance of feature ' dining' is 0.0%.\n",
      " The importance of feature ' museums' is 0.0%.\n",
      " The importance of feature ' art' is 0.0%.\n",
      " The importance of feature ' hiking' is 0.0%.\n",
      " The importance of feature ' gaming' is 0.0%.\n",
      " The importance of feature ' clubbing' is 0.0%.\n",
      " The importance of feature ' reading' is 0.0%.\n",
      " The importance of feature ' tv' is 0.0%.\n",
      " The importance of feature ' theater' is 0.0%.\n",
      " The importance of feature ' movies' is 0.0%.\n",
      " The importance of feature ' concerts' is 0.0%.\n",
      " The importance of feature ' music' is 0.0%.\n",
      " The importance of feature ' shopping' is 0.0%.\n",
      " The importance of feature ' yoga' is 0.0%.\n",
      " The importance of feature ' exphappy' is 0.0%.\n",
      " The importance of feature ' attr1_1' is 0.0%.\n",
      " The importance of feature ' sinc1_1' is 0.0%.\n",
      " The importance of feature ' intel1_1' is 0.0%.\n",
      " The importance of feature ' fun1_1' is 0.0%.\n",
      " The importance of feature ' amb1_1' is 0.0%.\n",
      " The importance of feature ' shar1_1' is 0.0%.\n",
      " The importance of feature ' attr' is 25.4%.\n",
      " The importance of feature ' sinc' is 0.0%.\n",
      " The importance of feature ' intel' is 0.0%.\n",
      " The importance of feature ' fun' is 11.79%.\n",
      " The importance of feature ' amb' is 0.0%.\n",
      " The importance of feature ' shar' is 6.58%.\n",
      " The importance of feature ' satis_2' is 0.0%.\n",
      " The importance of feature ' length' is 0.0%.\n",
      " The importance of feature ' numdat_2' is 0.0%.\n",
      " The importance of feature ' attr1_2' is 1.5%.\n",
      " The importance of feature ' sinc1_2' is 0.0%.\n",
      " The importance of feature ' intel1_2' is 0.0%.\n",
      " The importance of feature ' fun1_2' is 0.0%.\n",
      " The importance of feature ' amb1_2' is 0.0%.\n",
      " The importance of feature ' shar1_2' is 0.0%.\n",
      " The importance of feature ' attr3_2' is 0.0%.\n",
      " The importance of feature ' sinc3_2' is 0.0%.\n",
      " The importance of feature ' intel3_2' is 0.0%.\n",
      " The importance of feature ' fun3_2' is 0.0%.\n",
      " The importance of feature ' amb3_2' is 0.0%.\n"
     ]
    }
   ],
   "source": [
    "import itertools \n",
    "import matplotlib.pyplot as plt\n",
    "\n",
    "#We can use the itertools module to find the importance of each feature by percent contribution to the model\n",
    "importances = matchTree.feature_importances_\n",
    "columns = X.columns\n",
    "\n",
    "#Looping thru the model to get the percentage for each individual variable\n",
    "i=0\n",
    "while i < len(columns):\n",
    "    print(f\" The importance of feature ' {columns[i]}' is {round(importances[i] * 100,2)}%.\")\n",
    "    i += 1"
   ]
  },
  {
   "cell_type": "markdown",
   "id": "8a8a9fae",
   "metadata": {},
   "source": [
    "#### As we can we can see from the tree and feature importance list, by far the 3 most important features were how funny daters viewed their partner, and how attractive a person viewed themselves as well as their partner.\n",
    "\n",
    "#### We can draw many insights just from this to extrapolate to any dating scene or app, such as that humor appears to be the most important factor for either gender in a partner, and that confidence (through one's self-attraction rating) is as important as attraction towards your partner"
   ]
  }
 ],
 "metadata": {
  "kernelspec": {
   "display_name": "Python 3 (ipykernel)",
   "language": "python",
   "name": "python3"
  },
  "language_info": {
   "codemirror_mode": {
    "name": "ipython",
    "version": 3
   },
   "file_extension": ".py",
   "mimetype": "text/x-python",
   "name": "python",
   "nbconvert_exporter": "python",
   "pygments_lexer": "ipython3",
   "version": "3.9.12"
  }
 },
 "nbformat": 4,
 "nbformat_minor": 5
}
